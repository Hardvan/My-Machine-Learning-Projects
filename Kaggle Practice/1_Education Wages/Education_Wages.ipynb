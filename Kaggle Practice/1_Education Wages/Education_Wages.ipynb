{
 "cells": [
  {
   "attachments": {},
   "cell_type": "markdown",
   "metadata": {},
   "source": [
    "# `Predicting Salary with Position Level`"
   ]
  },
  {
   "cell_type": "code",
   "execution_count": 2,
   "metadata": {},
   "outputs": [],
   "source": [
    "import numpy as np\n",
    "import pandas as pd\n",
    "import matplotlib.pyplot as plt\n",
    "import seaborn as sns"
   ]
  },
  {
   "attachments": {},
   "cell_type": "markdown",
   "metadata": {},
   "source": [
    "## 1) Importing the Dataset"
   ]
  },
  {
   "cell_type": "code",
   "execution_count": 3,
   "metadata": {},
   "outputs": [],
   "source": [
    "df = pd.read_csv(\"./2013_Salaries__Pennsylvania_State_System_of_Higher_Education.csv\")"
   ]
  },
  {
   "cell_type": "code",
   "execution_count": 4,
   "metadata": {},
   "outputs": [
    {
     "data": {
      "text/html": [
       "<div>\n",
       "<style scoped>\n",
       "    .dataframe tbody tr th:only-of-type {\n",
       "        vertical-align: middle;\n",
       "    }\n",
       "\n",
       "    .dataframe tbody tr th {\n",
       "        vertical-align: top;\n",
       "    }\n",
       "\n",
       "    .dataframe thead th {\n",
       "        text-align: right;\n",
       "    }\n",
       "</style>\n",
       "<table border=\"1\" class=\"dataframe\">\n",
       "  <thead>\n",
       "    <tr style=\"text-align: right;\">\n",
       "      <th></th>\n",
       "      <th>index</th>\n",
       "      <th>Name</th>\n",
       "      <th>Base Pay</th>\n",
       "      <th>University or Office</th>\n",
       "      <th>Position</th>\n",
       "    </tr>\n",
       "  </thead>\n",
       "  <tbody>\n",
       "    <tr>\n",
       "      <th>0</th>\n",
       "      <td>0</td>\n",
       "      <td>Driscoll, Michael Allan</td>\n",
       "      <td>$275000</td>\n",
       "      <td>Indiana</td>\n",
       "      <td>University President</td>\n",
       "    </tr>\n",
       "    <tr>\n",
       "      <th>1</th>\n",
       "      <td>1</td>\n",
       "      <td>Weisenstein, Greg R</td>\n",
       "      <td>$241935</td>\n",
       "      <td>West Chester</td>\n",
       "      <td>University President</td>\n",
       "    </tr>\n",
       "    <tr>\n",
       "      <th>2</th>\n",
       "      <td>2</td>\n",
       "      <td>Welsh, Marcia L</td>\n",
       "      <td>$230000</td>\n",
       "      <td>East Stroudsburg</td>\n",
       "      <td>University President</td>\n",
       "    </tr>\n",
       "    <tr>\n",
       "      <th>3</th>\n",
       "      <td>3</td>\n",
       "      <td>Norton, Cheryl J.</td>\n",
       "      <td>$225000</td>\n",
       "      <td>Slippery Rock</td>\n",
       "      <td>University President</td>\n",
       "    </tr>\n",
       "    <tr>\n",
       "      <th>4</th>\n",
       "      <td>4</td>\n",
       "      <td>Wollman, Julie E.</td>\n",
       "      <td>$225000</td>\n",
       "      <td>Edinboro</td>\n",
       "      <td>University President</td>\n",
       "    </tr>\n",
       "  </tbody>\n",
       "</table>\n",
       "</div>"
      ],
      "text/plain": [
       "   index                     Name Base Pay University or Office  \\\n",
       "0      0  Driscoll, Michael Allan  $275000              Indiana   \n",
       "1      1      Weisenstein, Greg R  $241935         West Chester   \n",
       "2      2          Welsh, Marcia L  $230000     East Stroudsburg   \n",
       "3      3        Norton, Cheryl J.  $225000        Slippery Rock   \n",
       "4      4        Wollman, Julie E.  $225000             Edinboro   \n",
       "\n",
       "               Position  \n",
       "0  University President  \n",
       "1  University President  \n",
       "2  University President  \n",
       "3  University President  \n",
       "4  University President  "
      ]
     },
     "execution_count": 4,
     "metadata": {},
     "output_type": "execute_result"
    }
   ],
   "source": [
    "df.head()"
   ]
  },
  {
   "cell_type": "code",
   "execution_count": 5,
   "metadata": {},
   "outputs": [
    {
     "name": "stdout",
     "output_type": "stream",
     "text": [
      "<class 'pandas.core.frame.DataFrame'>\n",
      "RangeIndex: 12632 entries, 0 to 12631\n",
      "Data columns (total 5 columns):\n",
      " #   Column                Non-Null Count  Dtype \n",
      "---  ------                --------------  ----- \n",
      " 0   index                 12632 non-null  int64 \n",
      " 1   Name                  12632 non-null  object\n",
      " 2   Base Pay              12632 non-null  object\n",
      " 3   University or Office  12632 non-null  object\n",
      " 4   Position              12632 non-null  object\n",
      "dtypes: int64(1), object(4)\n",
      "memory usage: 493.6+ KB\n"
     ]
    }
   ],
   "source": [
    "df.info()"
   ]
  },
  {
   "attachments": {},
   "cell_type": "markdown",
   "metadata": {},
   "source": [
    "### Column Datatypes"
   ]
  },
  {
   "cell_type": "code",
   "execution_count": 6,
   "metadata": {},
   "outputs": [
    {
     "data": {
      "text/plain": [
       "index                    int64\n",
       "Name                    object\n",
       "Base Pay                object\n",
       "University or Office    object\n",
       "Position                object\n",
       "dtype: object"
      ]
     },
     "execution_count": 6,
     "metadata": {},
     "output_type": "execute_result"
    }
   ],
   "source": [
    "df.dtypes"
   ]
  },
  {
   "attachments": {},
   "cell_type": "markdown",
   "metadata": {},
   "source": [
    "### Checking for null values"
   ]
  },
  {
   "cell_type": "code",
   "execution_count": 7,
   "metadata": {},
   "outputs": [
    {
     "data": {
      "text/plain": [
       "index                   0\n",
       "Name                    0\n",
       "Base Pay                0\n",
       "University or Office    0\n",
       "Position                0\n",
       "dtype: int64"
      ]
     },
     "execution_count": 7,
     "metadata": {},
     "output_type": "execute_result"
    }
   ],
   "source": [
    "df.isnull().sum()"
   ]
  },
  {
   "attachments": {},
   "cell_type": "markdown",
   "metadata": {},
   "source": [
    "## 2) Data Preprocessing"
   ]
  },
  {
   "attachments": {},
   "cell_type": "markdown",
   "metadata": {},
   "source": [
    "### Unique University or Office Values"
   ]
  },
  {
   "cell_type": "code",
   "execution_count": 8,
   "metadata": {},
   "outputs": [
    {
     "data": {
      "text/plain": [
       "array(['Indiana', 'West Chester', 'East Stroudsburg', 'Slippery Rock',\n",
       "       'Edinboro', 'Millersville', 'Lock Haven', 'Clarion', 'Kutztown',\n",
       "       'Bloomsburg', 'Shippensburg', 'Cheyney', 'California',\n",
       "       'Office of the Chancellor', 'Mansfield'], dtype=object)"
      ]
     },
     "execution_count": 8,
     "metadata": {},
     "output_type": "execute_result"
    }
   ],
   "source": [
    "df[\"University or Office\"].unique()"
   ]
  },
  {
   "attachments": {},
   "cell_type": "markdown",
   "metadata": {},
   "source": [
    "### Converting Base Pay to numeric (remove '$')"
   ]
  },
  {
   "cell_type": "code",
   "execution_count": 9,
   "metadata": {},
   "outputs": [],
   "source": [
    "df[\"Base Pay\"] = df[\"Base Pay\"].str.lstrip(\"$\")\n",
    "\n",
    "df[\"Base Pay\"] = df[\"Base Pay\"].astype(float)"
   ]
  },
  {
   "attachments": {},
   "cell_type": "markdown",
   "metadata": {},
   "source": [
    "### Simplifying Position"
   ]
  },
  {
   "cell_type": "code",
   "execution_count": 10,
   "metadata": {},
   "outputs": [
    {
     "name": "stderr",
     "output_type": "stream",
     "text": [
      "C:\\Users\\Admin\\AppData\\Local\\Temp\\ipykernel_16908\\1981941194.py:1: SettingWithCopyWarning: \n",
      "A value is trying to be set on a copy of a slice from a DataFrame\n",
      "\n",
      "See the caveats in the documentation: https://pandas.pydata.org/pandas-docs/stable/user_guide/indexing.html#returning-a-view-versus-a-copy\n",
      "  df['Position'][df.Position.str.lower().str.contains('assistant')] = 'Assistant'\n",
      "C:\\Users\\Admin\\AppData\\Local\\Temp\\ipykernel_16908\\1981941194.py:2: SettingWithCopyWarning: \n",
      "A value is trying to be set on a copy of a slice from a DataFrame\n",
      "\n",
      "See the caveats in the documentation: https://pandas.pydata.org/pandas-docs/stable/user_guide/indexing.html#returning-a-view-versus-a-copy\n",
      "  df['Position'][df.Position.str.lower().str.contains('professor')] = 'Professor'\n",
      "C:\\Users\\Admin\\AppData\\Local\\Temp\\ipykernel_16908\\1981941194.py:3: SettingWithCopyWarning: \n",
      "A value is trying to be set on a copy of a slice from a DataFrame\n",
      "\n",
      "See the caveats in the documentation: https://pandas.pydata.org/pandas-docs/stable/user_guide/indexing.html#returning-a-view-versus-a-copy\n",
      "  df['Position'][df.Position.str.lower().str.contains('instructor')] = 'Instructor'\n",
      "C:\\Users\\Admin\\AppData\\Local\\Temp\\ipykernel_16908\\1981941194.py:4: SettingWithCopyWarning: \n",
      "A value is trying to be set on a copy of a slice from a DataFrame\n",
      "\n",
      "See the caveats in the documentation: https://pandas.pydata.org/pandas-docs/stable/user_guide/indexing.html#returning-a-view-versus-a-copy\n",
      "  df['Position'][df.Position.str.lower().str.contains('custodial')] = 'Custodial'\n",
      "C:\\Users\\Admin\\AppData\\Local\\Temp\\ipykernel_16908\\1981941194.py:5: SettingWithCopyWarning: \n",
      "A value is trying to be set on a copy of a slice from a DataFrame\n",
      "\n",
      "See the caveats in the documentation: https://pandas.pydata.org/pandas-docs/stable/user_guide/indexing.html#returning-a-view-versus-a-copy\n",
      "  df['Position'][df.Position.str.lower().str.contains('clerk')] = 'Clerk'\n",
      "C:\\Users\\Admin\\AppData\\Local\\Temp\\ipykernel_16908\\1981941194.py:6: SettingWithCopyWarning: \n",
      "A value is trying to be set on a copy of a slice from a DataFrame\n",
      "\n",
      "See the caveats in the documentation: https://pandas.pydata.org/pandas-docs/stable/user_guide/indexing.html#returning-a-view-versus-a-copy\n",
      "  df['Position'][df.Position.str.lower().str.contains('maintenance')] = 'Maintenance'\n",
      "C:\\Users\\Admin\\AppData\\Local\\Temp\\ipykernel_16908\\1981941194.py:7: SettingWithCopyWarning: \n",
      "A value is trying to be set on a copy of a slice from a DataFrame\n",
      "\n",
      "See the caveats in the documentation: https://pandas.pydata.org/pandas-docs/stable/user_guide/indexing.html#returning-a-view-versus-a-copy\n",
      "  df['Position'][df.Position.str.lower().str.contains('operator')] = 'Operator'\n",
      "C:\\Users\\Admin\\AppData\\Local\\Temp\\ipykernel_16908\\1981941194.py:8: SettingWithCopyWarning: \n",
      "A value is trying to be set on a copy of a slice from a DataFrame\n",
      "\n",
      "See the caveats in the documentation: https://pandas.pydata.org/pandas-docs/stable/user_guide/indexing.html#returning-a-view-versus-a-copy\n",
      "  df['Position'][df.Position.str.lower().str.contains('technician')] = 'Technician'\n",
      "C:\\Users\\Admin\\AppData\\Local\\Temp\\ipykernel_16908\\1981941194.py:9: SettingWithCopyWarning: \n",
      "A value is trying to be set on a copy of a slice from a DataFrame\n",
      "\n",
      "See the caveats in the documentation: https://pandas.pydata.org/pandas-docs/stable/user_guide/indexing.html#returning-a-view-versus-a-copy\n",
      "  df['Position'][df.Position.str.lower().str.contains('officer')] = 'Officer'\n",
      "C:\\Users\\Admin\\AppData\\Local\\Temp\\ipykernel_16908\\1981941194.py:10: SettingWithCopyWarning: \n",
      "A value is trying to be set on a copy of a slice from a DataFrame\n",
      "\n",
      "See the caveats in the documentation: https://pandas.pydata.org/pandas-docs/stable/user_guide/indexing.html#returning-a-view-versus-a-copy\n",
      "  df['Position'][df.Position.str.lower().str.contains('supervisor')] = 'Supervisor'\n",
      "C:\\Users\\Admin\\AppData\\Local\\Temp\\ipykernel_16908\\1981941194.py:11: SettingWithCopyWarning: \n",
      "A value is trying to be set on a copy of a slice from a DataFrame\n",
      "\n",
      "See the caveats in the documentation: https://pandas.pydata.org/pandas-docs/stable/user_guide/indexing.html#returning-a-view-versus-a-copy\n",
      "  df['Position'][df.Position.str.lower().str.contains('specialist')] = 'Specialist'\n",
      "C:\\Users\\Admin\\AppData\\Local\\Temp\\ipykernel_16908\\1981941194.py:12: SettingWithCopyWarning: \n",
      "A value is trying to be set on a copy of a slice from a DataFrame\n",
      "\n",
      "See the caveats in the documentation: https://pandas.pydata.org/pandas-docs/stable/user_guide/indexing.html#returning-a-view-versus-a-copy\n",
      "  df['Position'][df.Position.str.lower().str.contains('nurse')] = 'Nurse'\n",
      "C:\\Users\\Admin\\AppData\\Local\\Temp\\ipykernel_16908\\1981941194.py:13: SettingWithCopyWarning: \n",
      "A value is trying to be set on a copy of a slice from a DataFrame\n",
      "\n",
      "See the caveats in the documentation: https://pandas.pydata.org/pandas-docs/stable/user_guide/indexing.html#returning-a-view-versus-a-copy\n",
      "  df['Position'][df.Position.str.lower().str.contains('analyst')] = 'Analyst'\n",
      "C:\\Users\\Admin\\AppData\\Local\\Temp\\ipykernel_16908\\1981941194.py:14: SettingWithCopyWarning: \n",
      "A value is trying to be set on a copy of a slice from a DataFrame\n",
      "\n",
      "See the caveats in the documentation: https://pandas.pydata.org/pandas-docs/stable/user_guide/indexing.html#returning-a-view-versus-a-copy\n",
      "  df['Position'][df.Position.str.lower().str.contains('coach')] = 'Coach'\n",
      "C:\\Users\\Admin\\AppData\\Local\\Temp\\ipykernel_16908\\1981941194.py:15: SettingWithCopyWarning: \n",
      "A value is trying to be set on a copy of a slice from a DataFrame\n",
      "\n",
      "See the caveats in the documentation: https://pandas.pydata.org/pandas-docs/stable/user_guide/indexing.html#returning-a-view-versus-a-copy\n",
      "  df['Position'][df.Position.str.lower().str.contains('developer')] = 'Developer'\n",
      "C:\\Users\\Admin\\AppData\\Local\\Temp\\ipykernel_16908\\1981941194.py:16: SettingWithCopyWarning: \n",
      "A value is trying to be set on a copy of a slice from a DataFrame\n",
      "\n",
      "See the caveats in the documentation: https://pandas.pydata.org/pandas-docs/stable/user_guide/indexing.html#returning-a-view-versus-a-copy\n",
      "  df['Position'][df.Position.str.lower().str.contains('secretary')] = 'Secretary'\n",
      "C:\\Users\\Admin\\AppData\\Local\\Temp\\ipykernel_16908\\1981941194.py:17: SettingWithCopyWarning: \n",
      "A value is trying to be set on a copy of a slice from a DataFrame\n",
      "\n",
      "See the caveats in the documentation: https://pandas.pydata.org/pandas-docs/stable/user_guide/indexing.html#returning-a-view-versus-a-copy\n",
      "  df['Position'][df.Position.str.lower().str.contains('mechanic')] = 'Mechanic'\n"
     ]
    }
   ],
   "source": [
    "df['Position'][df.Position.str.lower().str.contains('assistant')] = 'Assistant'\n",
    "df['Position'][df.Position.str.lower().str.contains('professor')] = 'Professor'\n",
    "df['Position'][df.Position.str.lower().str.contains('instructor')] = 'Instructor'\n",
    "df['Position'][df.Position.str.lower().str.contains('custodial')] = 'Custodial'\n",
    "df['Position'][df.Position.str.lower().str.contains('clerk')] = 'Clerk'\n",
    "df['Position'][df.Position.str.lower().str.contains('maintenance')] = 'Maintenance'\n",
    "df['Position'][df.Position.str.lower().str.contains('operator')] = 'Operator'\n",
    "df['Position'][df.Position.str.lower().str.contains('technician')] = 'Technician'\n",
    "df['Position'][df.Position.str.lower().str.contains('officer')] = 'Officer'\n",
    "df['Position'][df.Position.str.lower().str.contains('supervisor')] = 'Supervisor'\n",
    "df['Position'][df.Position.str.lower().str.contains('specialist')] = 'Specialist'\n",
    "df['Position'][df.Position.str.lower().str.contains('nurse')] = 'Nurse'\n",
    "df['Position'][df.Position.str.lower().str.contains('analyst')] = 'Analyst'\n",
    "df['Position'][df.Position.str.lower().str.contains('coach')] = 'Coach'\n",
    "df['Position'][df.Position.str.lower().str.contains('developer')] = 'Developer'\n",
    "df['Position'][df.Position.str.lower().str.contains('secretary')] = 'Secretary'\n",
    "df['Position'][df.Position.str.lower().str.contains('mechanic')] = 'Mechanic'"
   ]
  },
  {
   "attachments": {},
   "cell_type": "markdown",
   "metadata": {},
   "source": [
    "### Remvoing outliers (less than 50 occurences)"
   ]
  },
  {
   "cell_type": "code",
   "execution_count": 11,
   "metadata": {},
   "outputs": [],
   "source": [
    "counts = df[\"Position\"].value_counts()\n",
    "\n",
    "df = df[df[\"Position\"].isin(counts[counts > 50].index)]"
   ]
  },
  {
   "attachments": {},
   "cell_type": "markdown",
   "metadata": {},
   "source": [
    "### Removing \"Name\" column"
   ]
  },
  {
   "cell_type": "code",
   "execution_count": 12,
   "metadata": {},
   "outputs": [],
   "source": [
    "df = df.drop(\"Name\", axis=1)"
   ]
  },
  {
   "attachments": {},
   "cell_type": "markdown",
   "metadata": {},
   "source": [
    "### Removing \"index\" column"
   ]
  },
  {
   "cell_type": "code",
   "execution_count": 13,
   "metadata": {},
   "outputs": [],
   "source": [
    "df = df.drop(\"index\", axis=1)"
   ]
  },
  {
   "attachments": {},
   "cell_type": "markdown",
   "metadata": {},
   "source": [
    "## 3) EDA"
   ]
  },
  {
   "cell_type": "code",
   "execution_count": 14,
   "metadata": {},
   "outputs": [
    {
     "data": {
      "text/plain": [
       "<AxesSubplot: xlabel='University or Office', ylabel='count'>"
      ]
     },
     "execution_count": 14,
     "metadata": {},
     "output_type": "execute_result"
    },
    {
     "data": {
      "image/png": "[encoded data removed]",
      "text/plain": [
       "<Figure size 2500x1500 with 1 Axes>"
      ]
     },
     "metadata": {},
     "output_type": "display_data"
    }
   ],
   "source": [
    "plt.figure(figsize=(25, 15))\n",
    "\n",
    "sns.countplot(x=\"University or Office\", data=df,\n",
    "              order=df[\"University or Office\"].value_counts().index)"
   ]
  },
  {
   "cell_type": "code",
   "execution_count": 15,
   "metadata": {},
   "outputs": [
    {
     "data": {
      "text/plain": [
       "<AxesSubplot: xlabel='Base Pay', ylabel='Count'>"
      ]
     },
     "execution_count": 15,
     "metadata": {},
     "output_type": "execute_result"
    },
    {
     "data": {
      "image/png": "[encoded data removed]",
      "text/plain": [
       "<Figure size 640x480 with 1 Axes>"
      ]
     },
     "metadata": {},
     "output_type": "display_data"
    }
   ],
   "source": [
    "sns.histplot(df[\"Base Pay\"])"
   ]
  },
  {
   "attachments": {},
   "cell_type": "markdown",
   "metadata": {},
   "source": [
    "### Converting to dummy variables\n",
    "##### No drop_first=True because we want to keep all the columns"
   ]
  },
  {
   "cell_type": "code",
   "execution_count": 16,
   "metadata": {},
   "outputs": [],
   "source": [
    "university = pd.get_dummies(df[\"University or Office\"])\n",
    "position = pd.get_dummies(df[\"Position\"])\n",
    "\n",
    "df = pd.concat([df, university, position], axis=1)\n",
    "\n",
    "df = df.drop([\"University or Office\", \"Position\"], axis=1)"
   ]
  },
  {
   "attachments": {},
   "cell_type": "markdown",
   "metadata": {},
   "source": [
    "## 4) Building the Model"
   ]
  },
  {
   "attachments": {},
   "cell_type": "markdown",
   "metadata": {},
   "source": [
    "### Splitting into X and y"
   ]
  },
  {
   "cell_type": "code",
   "execution_count": 17,
   "metadata": {},
   "outputs": [],
   "source": [
    "X = df.drop(\"Base Pay\", axis=1)\n",
    "y = df[\"Base Pay\"]"
   ]
  },
  {
   "attachments": {},
   "cell_type": "markdown",
   "metadata": {},
   "source": [
    "### Splitting into train and test"
   ]
  },
  {
   "cell_type": "code",
   "execution_count": 18,
   "metadata": {},
   "outputs": [],
   "source": [
    "from sklearn.model_selection import train_test_split\n",
    "X_train, X_test, y_train, y_test = train_test_split(X, y,\n",
    "                                                    test_size=0.2,\n",
    "                                                    random_state=42)"
   ]
  },
  {
   "cell_type": "code",
   "execution_count": 19,
   "metadata": {},
   "outputs": [
    {
     "data": {
      "text/plain": [
       "((7701, 32), (1926, 32))"
      ]
     },
     "execution_count": 19,
     "metadata": {},
     "output_type": "execute_result"
    }
   ],
   "source": [
    "X_train.shape, X_test.shape"
   ]
  },
  {
   "cell_type": "code",
   "execution_count": 20,
   "metadata": {},
   "outputs": [
    {
     "data": {
      "text/plain": [
       "((7701,), (1926,))"
      ]
     },
     "execution_count": 20,
     "metadata": {},
     "output_type": "execute_result"
    }
   ],
   "source": [
    "y_train.shape, y_test.shape"
   ]
  },
  {
   "attachments": {},
   "cell_type": "markdown",
   "metadata": {},
   "source": [
    "### Linear Regression"
   ]
  },
  {
   "cell_type": "code",
   "execution_count": 21,
   "metadata": {},
   "outputs": [],
   "source": [
    "from sklearn.linear_model import LinearRegression\n",
    "model = LinearRegression()"
   ]
  },
  {
   "attachments": {},
   "cell_type": "markdown",
   "metadata": {},
   "source": [
    "### Training the model"
   ]
  },
  {
   "cell_type": "code",
   "execution_count": 22,
   "metadata": {},
   "outputs": [
    {
     "data": {
      "text/html": [
       "<style>#sk-container-id-1 {color: black;background-color: white;}#sk-container-id-1 pre{padding: 0;}#sk-container-id-1 div.sk-toggleable {background-color: white;}#sk-container-id-1 label.sk-toggleable__label {cursor: pointer;display: block;width: 100%;margin-bottom: 0;padding: 0.3em;box-sizing: border-box;text-align: center;}#sk-container-id-1 label.sk-toggleable__label-arrow:before {content: \"▸\";float: left;margin-right: 0.25em;color: #696969;}#sk-container-id-1 label.sk-toggleable__label-arrow:hover:before {color: black;}#sk-container-id-1 div.sk-estimator:hover label.sk-toggleable__label-arrow:before {color: black;}#sk-container-id-1 div.sk-toggleable__content {max-height: 0;max-width: 0;overflow: hidden;text-align: left;background-color: #f0f8ff;}#sk-container-id-1 div.sk-toggleable__content pre {margin: 0.2em;color: black;border-radius: 0.25em;background-color: #f0f8ff;}#sk-container-id-1 input.sk-toggleable__control:checked~div.sk-toggleable__content {max-height: 200px;max-width: 100%;overflow: auto;}#sk-container-id-1 input.sk-toggleable__control:checked~label.sk-toggleable__label-arrow:before {content: \"▾\";}#sk-container-id-1 div.sk-estimator input.sk-toggleable__control:checked~label.sk-toggleable__label {background-color: #d4ebff;}#sk-container-id-1 div.sk-label input.sk-toggleable__control:checked~label.sk-toggleable__label {background-color: #d4ebff;}#sk-container-id-1 input.sk-hidden--visually {border: 0;clip: rect(1px 1px 1px 1px);clip: rect(1px, 1px, 1px, 1px);height: 1px;margin: -1px;overflow: hidden;padding: 0;position: absolute;width: 1px;}#sk-container-id-1 div.sk-estimator {font-family: monospace;background-color: #f0f8ff;border: 1px dotted black;border-radius: 0.25em;box-sizing: border-box;margin-bottom: 0.5em;}#sk-container-id-1 div.sk-estimator:hover {background-color: #d4ebff;}#sk-container-id-1 div.sk-parallel-item::after {content: \"\";width: 100%;border-bottom: 1px solid gray;flex-grow: 1;}#sk-container-id-1 div.sk-label:hover label.sk-toggleable__label {background-color: #d4ebff;}#sk-container-id-1 div.sk-serial::before {content: \"\";position: absolute;border-left: 1px solid gray;box-sizing: border-box;top: 0;bottom: 0;left: 50%;z-index: 0;}#sk-container-id-1 div.sk-serial {display: flex;flex-direction: column;align-items: center;background-color: white;padding-right: 0.2em;padding-left: 0.2em;position: relative;}#sk-container-id-1 div.sk-item {position: relative;z-index: 1;}#sk-container-id-1 div.sk-parallel {display: flex;align-items: stretch;justify-content: center;background-color: white;position: relative;}#sk-container-id-1 div.sk-item::before, #sk-container-id-1 div.sk-parallel-item::before {content: \"\";position: absolute;border-left: 1px solid gray;box-sizing: border-box;top: 0;bottom: 0;left: 50%;z-index: -1;}#sk-container-id-1 div.sk-parallel-item {display: flex;flex-direction: column;z-index: 1;position: relative;background-color: white;}#sk-container-id-1 div.sk-parallel-item:first-child::after {align-self: flex-end;width: 50%;}#sk-container-id-1 div.sk-parallel-item:last-child::after {align-self: flex-start;width: 50%;}#sk-container-id-1 div.sk-parallel-item:only-child::after {width: 0;}#sk-container-id-1 div.sk-dashed-wrapped {border: 1px dashed gray;margin: 0 0.4em 0.5em 0.4em;box-sizing: border-box;padding-bottom: 0.4em;background-color: white;}#sk-container-id-1 div.sk-label label {font-family: monospace;font-weight: bold;display: inline-block;line-height: 1.2em;}#sk-container-id-1 div.sk-label-container {text-align: center;}#sk-container-id-1 div.sk-container {/* jupyter's `normalize.less` sets `[hidden] { display: none; }` but bootstrap.min.css set `[hidden] { display: none !important; }` so we also need the `!important` here to be able to override the default hidden behavior on the sphinx rendered scikit-learn.org. See: https://github.com/scikit-learn/scikit-learn/issues/21755 */display: inline-block !important;position: relative;}#sk-container-id-1 div.sk-text-repr-fallback {display: none;}</style><div id=\"sk-container-id-1\" class=\"sk-top-container\"><div class=\"sk-text-repr-fallback\"><pre>LinearRegression()</pre><b>In a Jupyter environment, please rerun this cell to show the HTML representation or trust the notebook. <br />On GitHub, the HTML representation is unable to render, please try loading this page with nbviewer.org.</b></div><div class=\"sk-container\" hidden><div class=\"sk-item\"><div class=\"sk-estimator sk-toggleable\"><input class=\"sk-toggleable__control sk-hidden--visually\" id=\"sk-estimator-id-1\" type=\"checkbox\" checked><label for=\"sk-estimator-id-1\" class=\"sk-toggleable__label sk-toggleable__label-arrow\">LinearRegression</label><div class=\"sk-toggleable__content\"><pre>LinearRegression()</pre></div></div></div></div></div>"
      ],
      "text/plain": [
       "LinearRegression()"
      ]
     },
     "execution_count": 22,
     "metadata": {},
     "output_type": "execute_result"
    }
   ],
   "source": [
    "model.fit(X_train, y_train)"
   ]
  },
  {
   "attachments": {},
   "cell_type": "markdown",
   "metadata": {},
   "source": [
    "## 5) Evaluating the Model"
   ]
  },
  {
   "cell_type": "code",
   "execution_count": 23,
   "metadata": {},
   "outputs": [
    {
     "data": {
      "text/plain": [
       "0.763484089573561"
      ]
     },
     "execution_count": 23,
     "metadata": {},
     "output_type": "execute_result"
    }
   ],
   "source": [
    "model_score_train = model.score(X_train, y_train)\n",
    "model_score_train"
   ]
  },
  {
   "cell_type": "code",
   "execution_count": 24,
   "metadata": {},
   "outputs": [
    {
     "data": {
      "text/plain": [
       "0.748534805748299"
      ]
     },
     "execution_count": 24,
     "metadata": {},
     "output_type": "execute_result"
    }
   ],
   "source": [
    "model_score_test = model.score(X_test, y_test)\n",
    "model_score_test"
   ]
  },
  {
   "cell_type": "code",
   "execution_count": 25,
   "metadata": {},
   "outputs": [],
   "source": [
    "predictions = model.predict(X_test)"
   ]
  },
  {
   "cell_type": "code",
   "execution_count": 26,
   "metadata": {},
   "outputs": [
    {
     "data": {
      "text/plain": [
       "202468534.86825025"
      ]
     },
     "execution_count": 26,
     "metadata": {},
     "output_type": "execute_result"
    }
   ],
   "source": [
    "from sklearn.metrics import mean_absolute_error, mean_squared_error\n",
    "mse = mean_squared_error(y_test, predictions)\n",
    "mse"
   ]
  },
  {
   "cell_type": "code",
   "execution_count": 27,
   "metadata": {},
   "outputs": [
    {
     "data": {
      "text/plain": [
       "14229.143855771867"
      ]
     },
     "execution_count": 27,
     "metadata": {},
     "output_type": "execute_result"
    }
   ],
   "source": [
    "rmse = np.sqrt(mse)\n",
    "rmse"
   ]
  },
  {
   "attachments": {},
   "cell_type": "markdown",
   "metadata": {},
   "source": [
    "## 6) Using Deep Learning Model"
   ]
  },
  {
   "cell_type": "code",
   "execution_count": 28,
   "metadata": {},
   "outputs": [],
   "source": [
    "X = df.drop(\"Base Pay\", axis=1)\n",
    "y = df[\"Base Pay\"]\n",
    "X_train, X_test, y_train, y_test = train_test_split(X, y,\n",
    "                                                    test_size=0.2,\n",
    "                                                    random_state=42)"
   ]
  },
  {
   "attachments": {},
   "cell_type": "markdown",
   "metadata": {},
   "source": [
    "### Scaling Data"
   ]
  },
  {
   "cell_type": "code",
   "execution_count": 29,
   "metadata": {},
   "outputs": [],
   "source": [
    "from sklearn.preprocessing import MinMaxScaler\n",
    "scaler = MinMaxScaler()\n",
    "X_train = scaler.fit_transform(X_train)\n",
    "X_test = scaler.transform(X_test)"
   ]
  },
  {
   "cell_type": "code",
   "execution_count": 30,
   "metadata": {},
   "outputs": [
    {
     "data": {
      "text/plain": [
       "((7701, 32), (1926, 32))"
      ]
     },
     "execution_count": 30,
     "metadata": {},
     "output_type": "execute_result"
    }
   ],
   "source": [
    "X_train.shape, X_test.shape"
   ]
  },
  {
   "cell_type": "code",
   "execution_count": 31,
   "metadata": {},
   "outputs": [
    {
     "data": {
      "text/plain": [
       "((7701,), (1926,))"
      ]
     },
     "execution_count": 31,
     "metadata": {},
     "output_type": "execute_result"
    }
   ],
   "source": [
    "y_train.shape, y_test.shape"
   ]
  },
  {
   "attachments": {},
   "cell_type": "markdown",
   "metadata": {},
   "source": [
    "### Model Architecture"
   ]
  },
  {
   "cell_type": "code",
   "execution_count": 32,
   "metadata": {},
   "outputs": [],
   "source": [
    "from tensorflow.keras.models import Sequential\n",
    "from tensorflow.keras.layers import Dense\n",
    "\n",
    "model = Sequential()\n",
    "\n",
    "model.add(Dense(32, activation=\"relu\"))\n",
    "model.add(Dense(32, activation=\"relu\"))\n",
    "model.add(Dense(32, activation=\"relu\"))\n",
    "model.add(Dense(32, activation=\"relu\"))\n",
    "\n",
    "model.add(Dense(1))\n",
    "\n",
    "model.compile(optimizer=\"adam\", loss=\"mse\")"
   ]
  },
  {
   "cell_type": "code",
   "execution_count": 33,
   "metadata": {},
   "outputs": [
    {
     "name": "stdout",
     "output_type": "stream",
     "text": [
      "Epoch 1/400\n",
      "61/61 [==============================] - 1s 4ms/step - loss: 3788030720.0000 - val_loss: 3867205376.0000\n",
      "Epoch 2/400\n",
      "61/61 [==============================] - 0s 2ms/step - loss: 3769362944.0000 - val_loss: 3799770112.0000\n",
      "Epoch 3/400\n",
      "61/61 [==============================] - 0s 2ms/step - loss: 3488160256.0000 - val_loss: 3107747072.0000\n",
      "Epoch 4/400\n",
      "61/61 [==============================] - 0s 2ms/step - loss: 2142313728.0000 - val_loss: 1156828928.0000\n",
      "Epoch 5/400\n",
      "61/61 [==============================] - 0s 2ms/step - loss: 722793024.0000 - val_loss: 563980352.0000\n",
      "Epoch 6/400\n",
      "61/61 [==============================] - 0s 2ms/step - loss: 493110816.0000 - val_loss: 442853536.0000\n",
      "Epoch 7/400\n",
      "61/61 [==============================] - 0s 2ms/step - loss: 391165792.0000 - val_loss: 357988288.0000\n",
      "Epoch 8/400\n",
      "61/61 [==============================] - 0s 3ms/step - loss: 317047616.0000 - val_loss: 295228608.0000\n",
      "Epoch 9/400\n",
      "61/61 [==============================] - 0s 2ms/step - loss: 263383248.0000 - val_loss: 252209056.0000\n",
      "Epoch 10/400\n",
      "61/61 [==============================] - 0s 2ms/step - loss: 227505536.0000 - val_loss: 224888864.0000\n",
      "Epoch 11/400\n",
      "61/61 [==============================] - 0s 2ms/step - loss: 206231952.0000 - val_loss: 210514160.0000\n",
      "Epoch 12/400\n",
      "61/61 [==============================] - 0s 2ms/step - loss: 195412864.0000 - val_loss: 204688240.0000\n",
      "Epoch 13/400\n",
      "61/61 [==============================] - 0s 2ms/step - loss: 190537280.0000 - val_loss: 202193888.0000\n",
      "Epoch 14/400\n",
      "61/61 [==============================] - 0s 3ms/step - loss: 188590912.0000 - val_loss: 201800304.0000\n",
      "Epoch 15/400\n",
      "61/61 [==============================] - 0s 2ms/step - loss: 187731248.0000 - val_loss: 201704880.0000\n",
      "Epoch 16/400\n",
      "61/61 [==============================] - 0s 2ms/step - loss: 187394320.0000 - val_loss: 201774224.0000\n",
      "Epoch 17/400\n",
      "61/61 [==============================] - 0s 2ms/step - loss: 187349600.0000 - val_loss: 201896432.0000\n",
      "Epoch 18/400\n",
      "61/61 [==============================] - 0s 2ms/step - loss: 187137616.0000 - val_loss: 202277872.0000\n",
      "Epoch 19/400\n",
      "61/61 [==============================] - 0s 2ms/step - loss: 187098960.0000 - val_loss: 201813168.0000\n",
      "Epoch 20/400\n",
      "61/61 [==============================] - 0s 2ms/step - loss: 187040640.0000 - val_loss: 202506352.0000\n",
      "Epoch 21/400\n",
      "61/61 [==============================] - 0s 2ms/step - loss: 187227792.0000 - val_loss: 201990992.0000\n",
      "Epoch 22/400\n",
      "61/61 [==============================] - 0s 2ms/step - loss: 187086768.0000 - val_loss: 201825184.0000\n",
      "Epoch 23/400\n",
      "61/61 [==============================] - 0s 2ms/step - loss: 186995344.0000 - val_loss: 201799600.0000\n",
      "Epoch 24/400\n",
      "61/61 [==============================] - 0s 2ms/step - loss: 186917248.0000 - val_loss: 202843120.0000\n",
      "Epoch 25/400\n",
      "61/61 [==============================] - 0s 2ms/step - loss: 187030224.0000 - val_loss: 202179728.0000\n",
      "Epoch 26/400\n",
      "61/61 [==============================] - 0s 2ms/step - loss: 186983600.0000 - val_loss: 202150000.0000\n",
      "Epoch 27/400\n",
      "61/61 [==============================] - 0s 2ms/step - loss: 186745792.0000 - val_loss: 202184400.0000\n",
      "Epoch 28/400\n",
      "61/61 [==============================] - 0s 2ms/step - loss: 186658464.0000 - val_loss: 201632880.0000\n",
      "Epoch 29/400\n",
      "61/61 [==============================] - 0s 2ms/step - loss: 186720304.0000 - val_loss: 202353248.0000\n",
      "Epoch 30/400\n",
      "61/61 [==============================] - 0s 2ms/step - loss: 186668784.0000 - val_loss: 201848912.0000\n",
      "Epoch 31/400\n",
      "61/61 [==============================] - 0s 2ms/step - loss: 186524816.0000 - val_loss: 202104352.0000\n",
      "Epoch 32/400\n",
      "61/61 [==============================] - 0s 2ms/step - loss: 186583872.0000 - val_loss: 201576832.0000\n",
      "Epoch 33/400\n",
      "61/61 [==============================] - 0s 2ms/step - loss: 186655152.0000 - val_loss: 201515872.0000\n",
      "Epoch 34/400\n",
      "61/61 [==============================] - 0s 2ms/step - loss: 186866544.0000 - val_loss: 201684768.0000\n",
      "Epoch 35/400\n",
      "61/61 [==============================] - 0s 2ms/step - loss: 186666880.0000 - val_loss: 201473616.0000\n",
      "Epoch 36/400\n",
      "61/61 [==============================] - 0s 2ms/step - loss: 186511664.0000 - val_loss: 201717200.0000\n",
      "Epoch 37/400\n",
      "61/61 [==============================] - 0s 2ms/step - loss: 186300512.0000 - val_loss: 202135296.0000\n",
      "Epoch 38/400\n",
      "61/61 [==============================] - 0s 2ms/step - loss: 186326176.0000 - val_loss: 202801152.0000\n",
      "Epoch 39/400\n",
      "61/61 [==============================] - 0s 2ms/step - loss: 186416384.0000 - val_loss: 201797536.0000\n",
      "Epoch 40/400\n",
      "61/61 [==============================] - 0s 2ms/step - loss: 186317872.0000 - val_loss: 201374256.0000\n",
      "Epoch 41/400\n",
      "61/61 [==============================] - 0s 2ms/step - loss: 186302432.0000 - val_loss: 201300832.0000\n",
      "Epoch 42/400\n",
      "61/61 [==============================] - 0s 2ms/step - loss: 186258720.0000 - val_loss: 203138624.0000\n",
      "Epoch 43/400\n",
      "61/61 [==============================] - 0s 2ms/step - loss: 186152912.0000 - val_loss: 202367936.0000\n",
      "Epoch 44/400\n",
      "61/61 [==============================] - 0s 2ms/step - loss: 186176496.0000 - val_loss: 202222528.0000\n",
      "Epoch 45/400\n",
      "61/61 [==============================] - 0s 2ms/step - loss: 186057968.0000 - val_loss: 201827856.0000\n",
      "Epoch 46/400\n",
      "61/61 [==============================] - 0s 2ms/step - loss: 185992080.0000 - val_loss: 201292672.0000\n",
      "Epoch 47/400\n",
      "61/61 [==============================] - 0s 2ms/step - loss: 186218544.0000 - val_loss: 201551872.0000\n",
      "Epoch 48/400\n",
      "61/61 [==============================] - 0s 2ms/step - loss: 185912080.0000 - val_loss: 201819728.0000\n",
      "Epoch 49/400\n",
      "61/61 [==============================] - 0s 2ms/step - loss: 185834896.0000 - val_loss: 201364416.0000\n",
      "Epoch 50/400\n",
      "61/61 [==============================] - 0s 2ms/step - loss: 185987632.0000 - val_loss: 201231696.0000\n",
      "Epoch 51/400\n",
      "61/61 [==============================] - 0s 2ms/step - loss: 186230544.0000 - val_loss: 200853536.0000\n",
      "Epoch 52/400\n",
      "61/61 [==============================] - 0s 2ms/step - loss: 185861696.0000 - val_loss: 201026400.0000\n",
      "Epoch 53/400\n",
      "61/61 [==============================] - 0s 2ms/step - loss: 186113104.0000 - val_loss: 200820736.0000\n",
      "Epoch 54/400\n",
      "61/61 [==============================] - 0s 2ms/step - loss: 185718080.0000 - val_loss: 201103600.0000\n",
      "Epoch 55/400\n",
      "61/61 [==============================] - 0s 2ms/step - loss: 185774160.0000 - val_loss: 200752336.0000\n",
      "Epoch 56/400\n",
      "61/61 [==============================] - 0s 2ms/step - loss: 185947168.0000 - val_loss: 201171760.0000\n",
      "Epoch 57/400\n",
      "61/61 [==============================] - 0s 2ms/step - loss: 185915344.0000 - val_loss: 201081792.0000\n",
      "Epoch 58/400\n",
      "61/61 [==============================] - 0s 2ms/step - loss: 185753136.0000 - val_loss: 200826368.0000\n",
      "Epoch 59/400\n",
      "61/61 [==============================] - 0s 2ms/step - loss: 185526496.0000 - val_loss: 200827328.0000\n",
      "Epoch 60/400\n",
      "61/61 [==============================] - 0s 2ms/step - loss: 185464736.0000 - val_loss: 200874064.0000\n",
      "Epoch 61/400\n",
      "61/61 [==============================] - 0s 3ms/step - loss: 185563904.0000 - val_loss: 200890592.0000\n",
      "Epoch 62/400\n",
      "61/61 [==============================] - 0s 2ms/step - loss: 185201104.0000 - val_loss: 201141568.0000\n",
      "Epoch 63/400\n",
      "61/61 [==============================] - 0s 2ms/step - loss: 185316496.0000 - val_loss: 200833776.0000\n",
      "Epoch 64/400\n",
      "61/61 [==============================] - 0s 2ms/step - loss: 185387120.0000 - val_loss: 200895120.0000\n",
      "Epoch 65/400\n",
      "61/61 [==============================] - 0s 2ms/step - loss: 185286176.0000 - val_loss: 200396800.0000\n",
      "Epoch 66/400\n",
      "61/61 [==============================] - 0s 2ms/step - loss: 185208496.0000 - val_loss: 202983744.0000\n",
      "Epoch 67/400\n",
      "61/61 [==============================] - 0s 2ms/step - loss: 185226912.0000 - val_loss: 200455168.0000\n",
      "Epoch 68/400\n",
      "61/61 [==============================] - 0s 2ms/step - loss: 185233328.0000 - val_loss: 200983264.0000\n",
      "Epoch 69/400\n",
      "61/61 [==============================] - 0s 2ms/step - loss: 185193648.0000 - val_loss: 200731104.0000\n",
      "Epoch 70/400\n",
      "61/61 [==============================] - 0s 2ms/step - loss: 184881952.0000 - val_loss: 201538704.0000\n",
      "Epoch 71/400\n",
      "61/61 [==============================] - 0s 2ms/step - loss: 185084288.0000 - val_loss: 200849024.0000\n",
      "Epoch 72/400\n",
      "61/61 [==============================] - 0s 2ms/step - loss: 184941216.0000 - val_loss: 200487888.0000\n",
      "Epoch 73/400\n",
      "61/61 [==============================] - 0s 2ms/step - loss: 184980032.0000 - val_loss: 200187792.0000\n",
      "Epoch 74/400\n",
      "61/61 [==============================] - 0s 2ms/step - loss: 184823920.0000 - val_loss: 200223968.0000\n",
      "Epoch 75/400\n",
      "61/61 [==============================] - 0s 2ms/step - loss: 184653696.0000 - val_loss: 200671664.0000\n",
      "Epoch 76/400\n",
      "61/61 [==============================] - 0s 2ms/step - loss: 184801008.0000 - val_loss: 201171552.0000\n",
      "Epoch 77/400\n",
      "61/61 [==============================] - 0s 3ms/step - loss: 184693600.0000 - val_loss: 200061040.0000\n",
      "Epoch 78/400\n",
      "61/61 [==============================] - 0s 2ms/step - loss: 184778256.0000 - val_loss: 200345136.0000\n",
      "Epoch 79/400\n",
      "61/61 [==============================] - 0s 2ms/step - loss: 184630784.0000 - val_loss: 200820720.0000\n",
      "Epoch 80/400\n",
      "61/61 [==============================] - 0s 2ms/step - loss: 184501072.0000 - val_loss: 200185056.0000\n",
      "Epoch 81/400\n",
      "61/61 [==============================] - 0s 2ms/step - loss: 184766464.0000 - val_loss: 200756496.0000\n",
      "Epoch 82/400\n",
      "61/61 [==============================] - 0s 2ms/step - loss: 184483376.0000 - val_loss: 200219440.0000\n",
      "Epoch 83/400\n",
      "61/61 [==============================] - 0s 2ms/step - loss: 184691872.0000 - val_loss: 201539936.0000\n",
      "Epoch 84/400\n",
      "61/61 [==============================] - 0s 2ms/step - loss: 184237296.0000 - val_loss: 201319616.0000\n",
      "Epoch 85/400\n",
      "61/61 [==============================] - 0s 2ms/step - loss: 184555216.0000 - val_loss: 200757184.0000\n",
      "Epoch 86/400\n",
      "61/61 [==============================] - 0s 2ms/step - loss: 184531056.0000 - val_loss: 200203264.0000\n",
      "Epoch 87/400\n",
      "61/61 [==============================] - 0s 2ms/step - loss: 184477792.0000 - val_loss: 200661248.0000\n",
      "Epoch 88/400\n",
      "61/61 [==============================] - 0s 2ms/step - loss: 184221872.0000 - val_loss: 200104960.0000\n",
      "Epoch 89/400\n",
      "61/61 [==============================] - 0s 2ms/step - loss: 184426736.0000 - val_loss: 200108704.0000\n",
      "Epoch 90/400\n",
      "61/61 [==============================] - 0s 2ms/step - loss: 184283504.0000 - val_loss: 200159264.0000\n",
      "Epoch 91/400\n",
      "61/61 [==============================] - 0s 2ms/step - loss: 184492768.0000 - val_loss: 201863840.0000\n",
      "Epoch 92/400\n",
      "61/61 [==============================] - 0s 2ms/step - loss: 184923200.0000 - val_loss: 200184592.0000\n",
      "Epoch 93/400\n",
      "61/61 [==============================] - 0s 2ms/step - loss: 184318992.0000 - val_loss: 201594896.0000\n",
      "Epoch 94/400\n",
      "61/61 [==============================] - 0s 2ms/step - loss: 183984176.0000 - val_loss: 200131600.0000\n",
      "Epoch 95/400\n",
      "61/61 [==============================] - 0s 2ms/step - loss: 184041856.0000 - val_loss: 200122992.0000\n",
      "Epoch 96/400\n",
      "61/61 [==============================] - 0s 2ms/step - loss: 183860960.0000 - val_loss: 200006704.0000\n",
      "Epoch 97/400\n",
      "61/61 [==============================] - 0s 2ms/step - loss: 184065408.0000 - val_loss: 201212496.0000\n",
      "Epoch 98/400\n",
      "61/61 [==============================] - 0s 2ms/step - loss: 184036640.0000 - val_loss: 199972640.0000\n",
      "Epoch 99/400\n",
      "61/61 [==============================] - 0s 2ms/step - loss: 184180608.0000 - val_loss: 199852752.0000\n",
      "Epoch 100/400\n",
      "61/61 [==============================] - 0s 2ms/step - loss: 183869904.0000 - val_loss: 201062272.0000\n",
      "Epoch 101/400\n",
      "61/61 [==============================] - 0s 2ms/step - loss: 183707296.0000 - val_loss: 199822480.0000\n",
      "Epoch 102/400\n",
      "61/61 [==============================] - 0s 2ms/step - loss: 183810096.0000 - val_loss: 199716976.0000\n",
      "Epoch 103/400\n",
      "61/61 [==============================] - 0s 2ms/step - loss: 183839744.0000 - val_loss: 199871456.0000\n",
      "Epoch 104/400\n",
      "61/61 [==============================] - 0s 2ms/step - loss: 183790512.0000 - val_loss: 200243216.0000\n",
      "Epoch 105/400\n",
      "61/61 [==============================] - 0s 2ms/step - loss: 183733856.0000 - val_loss: 200099552.0000\n",
      "Epoch 106/400\n",
      "61/61 [==============================] - 0s 2ms/step - loss: 183671920.0000 - val_loss: 200207616.0000\n",
      "Epoch 107/400\n",
      "61/61 [==============================] - 0s 2ms/step - loss: 183696528.0000 - val_loss: 200681904.0000\n",
      "Epoch 108/400\n",
      "61/61 [==============================] - 0s 2ms/step - loss: 183968864.0000 - val_loss: 199880336.0000\n",
      "Epoch 109/400\n",
      "61/61 [==============================] - 0s 2ms/step - loss: 183762336.0000 - val_loss: 201891344.0000\n",
      "Epoch 110/400\n",
      "61/61 [==============================] - 0s 2ms/step - loss: 183813056.0000 - val_loss: 199928960.0000\n",
      "Epoch 111/400\n",
      "61/61 [==============================] - 0s 2ms/step - loss: 183460528.0000 - val_loss: 199971104.0000\n",
      "Epoch 112/400\n",
      "61/61 [==============================] - 0s 2ms/step - loss: 183424672.0000 - val_loss: 199744720.0000\n",
      "Epoch 113/400\n",
      "61/61 [==============================] - 0s 2ms/step - loss: 183649984.0000 - val_loss: 201068096.0000\n",
      "Epoch 114/400\n",
      "61/61 [==============================] - 0s 2ms/step - loss: 183469520.0000 - val_loss: 200345088.0000\n",
      "Epoch 115/400\n",
      "61/61 [==============================] - 0s 2ms/step - loss: 183559856.0000 - val_loss: 200109168.0000\n",
      "Epoch 116/400\n",
      "61/61 [==============================] - 0s 2ms/step - loss: 183659984.0000 - val_loss: 199949712.0000\n",
      "Epoch 117/400\n",
      "61/61 [==============================] - 0s 2ms/step - loss: 183494944.0000 - val_loss: 199750832.0000\n",
      "Epoch 118/400\n",
      "61/61 [==============================] - 0s 2ms/step - loss: 183494112.0000 - val_loss: 200555008.0000\n",
      "Epoch 119/400\n",
      "61/61 [==============================] - 0s 2ms/step - loss: 183342752.0000 - val_loss: 200203248.0000\n",
      "Epoch 120/400\n",
      "61/61 [==============================] - 0s 2ms/step - loss: 183343504.0000 - val_loss: 199432224.0000\n",
      "Epoch 121/400\n",
      "61/61 [==============================] - 0s 2ms/step - loss: 183224432.0000 - val_loss: 200492320.0000\n",
      "Epoch 122/400\n",
      "61/61 [==============================] - 0s 2ms/step - loss: 183208480.0000 - val_loss: 199556672.0000\n",
      "Epoch 123/400\n",
      "61/61 [==============================] - 0s 2ms/step - loss: 183317632.0000 - val_loss: 200016112.0000\n",
      "Epoch 124/400\n",
      "61/61 [==============================] - 0s 2ms/step - loss: 183321568.0000 - val_loss: 200125232.0000\n",
      "Epoch 125/400\n",
      "61/61 [==============================] - 0s 2ms/step - loss: 183369296.0000 - val_loss: 200592336.0000\n",
      "Epoch 126/400\n",
      "61/61 [==============================] - 0s 2ms/step - loss: 183448048.0000 - val_loss: 200304832.0000\n",
      "Epoch 127/400\n",
      "61/61 [==============================] - 0s 2ms/step - loss: 183148960.0000 - val_loss: 199844848.0000\n",
      "Epoch 128/400\n",
      "61/61 [==============================] - 0s 2ms/step - loss: 183088016.0000 - val_loss: 199515232.0000\n",
      "Epoch 129/400\n",
      "61/61 [==============================] - 0s 2ms/step - loss: 183333696.0000 - val_loss: 199739488.0000\n",
      "Epoch 130/400\n",
      "61/61 [==============================] - 0s 2ms/step - loss: 183201728.0000 - val_loss: 199977536.0000\n",
      "Epoch 131/400\n",
      "61/61 [==============================] - 0s 2ms/step - loss: 183139584.0000 - val_loss: 199837680.0000\n",
      "Epoch 132/400\n",
      "61/61 [==============================] - 0s 2ms/step - loss: 183245824.0000 - val_loss: 199795376.0000\n",
      "Epoch 133/400\n",
      "61/61 [==============================] - 0s 2ms/step - loss: 183257904.0000 - val_loss: 199558256.0000\n",
      "Epoch 134/400\n",
      "61/61 [==============================] - 0s 2ms/step - loss: 183023760.0000 - val_loss: 200045744.0000\n",
      "Epoch 135/400\n",
      "61/61 [==============================] - 0s 2ms/step - loss: 183172160.0000 - val_loss: 199539760.0000\n",
      "Epoch 136/400\n",
      "61/61 [==============================] - 0s 2ms/step - loss: 183152672.0000 - val_loss: 200391072.0000\n",
      "Epoch 137/400\n",
      "61/61 [==============================] - 0s 2ms/step - loss: 182830016.0000 - val_loss: 201889008.0000\n",
      "Epoch 138/400\n",
      "61/61 [==============================] - 0s 2ms/step - loss: 182994304.0000 - val_loss: 199726128.0000\n",
      "Epoch 139/400\n",
      "61/61 [==============================] - 0s 2ms/step - loss: 183171744.0000 - val_loss: 199615936.0000\n",
      "Epoch 140/400\n",
      "61/61 [==============================] - 0s 2ms/step - loss: 183128096.0000 - val_loss: 199882144.0000\n",
      "Epoch 141/400\n",
      "61/61 [==============================] - 0s 2ms/step - loss: 182874048.0000 - val_loss: 199903872.0000\n",
      "Epoch 142/400\n",
      "61/61 [==============================] - 0s 2ms/step - loss: 182763552.0000 - val_loss: 200409104.0000\n",
      "Epoch 143/400\n",
      "61/61 [==============================] - 0s 2ms/step - loss: 183006672.0000 - val_loss: 199548400.0000\n",
      "Epoch 144/400\n",
      "61/61 [==============================] - 0s 2ms/step - loss: 182981264.0000 - val_loss: 199858592.0000\n",
      "Epoch 145/400\n",
      "61/61 [==============================] - 0s 2ms/step - loss: 182736912.0000 - val_loss: 199395456.0000\n",
      "Epoch 146/400\n",
      "61/61 [==============================] - 0s 2ms/step - loss: 182944944.0000 - val_loss: 200519664.0000\n",
      "Epoch 147/400\n",
      "61/61 [==============================] - 0s 2ms/step - loss: 183055600.0000 - val_loss: 199333984.0000\n",
      "Epoch 148/400\n",
      "61/61 [==============================] - 0s 2ms/step - loss: 183249040.0000 - val_loss: 199872000.0000\n",
      "Epoch 149/400\n",
      "61/61 [==============================] - 0s 2ms/step - loss: 183228336.0000 - val_loss: 199473360.0000\n",
      "Epoch 150/400\n",
      "61/61 [==============================] - 0s 3ms/step - loss: 182763120.0000 - val_loss: 199615072.0000\n",
      "Epoch 151/400\n",
      "61/61 [==============================] - 0s 2ms/step - loss: 182793648.0000 - val_loss: 199569024.0000\n",
      "Epoch 152/400\n",
      "61/61 [==============================] - 0s 2ms/step - loss: 182724832.0000 - val_loss: 199727376.0000\n",
      "Epoch 153/400\n",
      "61/61 [==============================] - 0s 2ms/step - loss: 182714032.0000 - val_loss: 200179200.0000\n",
      "Epoch 154/400\n",
      "61/61 [==============================] - 0s 2ms/step - loss: 182734096.0000 - val_loss: 199519232.0000\n",
      "Epoch 155/400\n",
      "61/61 [==============================] - 0s 2ms/step - loss: 182801408.0000 - val_loss: 200071104.0000\n",
      "Epoch 156/400\n",
      "61/61 [==============================] - 0s 2ms/step - loss: 182855552.0000 - val_loss: 199792752.0000\n",
      "Epoch 157/400\n",
      "61/61 [==============================] - 0s 2ms/step - loss: 182857520.0000 - val_loss: 199700880.0000\n",
      "Epoch 158/400\n",
      "61/61 [==============================] - 0s 2ms/step - loss: 182776176.0000 - val_loss: 201074608.0000\n",
      "Epoch 159/400\n",
      "61/61 [==============================] - 0s 2ms/step - loss: 182715232.0000 - val_loss: 199775472.0000\n",
      "Epoch 160/400\n",
      "61/61 [==============================] - 0s 2ms/step - loss: 182734896.0000 - val_loss: 200541360.0000\n",
      "Epoch 161/400\n",
      "61/61 [==============================] - 0s 2ms/step - loss: 182828768.0000 - val_loss: 199923392.0000\n",
      "Epoch 162/400\n",
      "61/61 [==============================] - 0s 2ms/step - loss: 182699792.0000 - val_loss: 199599360.0000\n",
      "Epoch 163/400\n",
      "61/61 [==============================] - 0s 2ms/step - loss: 182576960.0000 - val_loss: 200415360.0000\n",
      "Epoch 164/400\n",
      "61/61 [==============================] - 0s 2ms/step - loss: 182903024.0000 - val_loss: 200171056.0000\n",
      "Epoch 165/400\n",
      "61/61 [==============================] - 0s 2ms/step - loss: 182682560.0000 - val_loss: 199981440.0000\n",
      "Epoch 166/400\n",
      "61/61 [==============================] - 0s 2ms/step - loss: 182412992.0000 - val_loss: 202097328.0000\n",
      "Epoch 167/400\n",
      "61/61 [==============================] - 0s 2ms/step - loss: 182675024.0000 - val_loss: 199751760.0000\n",
      "Epoch 168/400\n",
      "61/61 [==============================] - 0s 2ms/step - loss: 182686416.0000 - val_loss: 199749808.0000\n",
      "Epoch 169/400\n",
      "61/61 [==============================] - 0s 2ms/step - loss: 182837504.0000 - val_loss: 200271264.0000\n",
      "Epoch 170/400\n",
      "61/61 [==============================] - 0s 2ms/step - loss: 182553312.0000 - val_loss: 200827632.0000\n",
      "Epoch 171/400\n",
      "61/61 [==============================] - 0s 2ms/step - loss: 182432784.0000 - val_loss: 200860624.0000\n",
      "Epoch 172/400\n",
      "61/61 [==============================] - 0s 2ms/step - loss: 183121456.0000 - val_loss: 200468464.0000\n",
      "Epoch 173/400\n",
      "61/61 [==============================] - 0s 2ms/step - loss: 182594672.0000 - val_loss: 199896224.0000\n",
      "Epoch 174/400\n",
      "61/61 [==============================] - 0s 2ms/step - loss: 182729744.0000 - val_loss: 200706400.0000\n",
      "Epoch 175/400\n",
      "61/61 [==============================] - 0s 2ms/step - loss: 182666144.0000 - val_loss: 199884816.0000\n",
      "Epoch 176/400\n",
      "61/61 [==============================] - 0s 2ms/step - loss: 182750128.0000 - val_loss: 200752416.0000\n",
      "Epoch 177/400\n",
      "61/61 [==============================] - 0s 2ms/step - loss: 182671984.0000 - val_loss: 199891968.0000\n",
      "Epoch 178/400\n",
      "61/61 [==============================] - 0s 2ms/step - loss: 182784720.0000 - val_loss: 199679984.0000\n",
      "Epoch 179/400\n",
      "61/61 [==============================] - 0s 2ms/step - loss: 182667120.0000 - val_loss: 200164752.0000\n",
      "Epoch 180/400\n",
      "61/61 [==============================] - 0s 2ms/step - loss: 182811472.0000 - val_loss: 199870800.0000\n",
      "Epoch 181/400\n",
      "61/61 [==============================] - 0s 2ms/step - loss: 182631856.0000 - val_loss: 200262672.0000\n",
      "Epoch 182/400\n",
      "61/61 [==============================] - 0s 2ms/step - loss: 182380112.0000 - val_loss: 199690896.0000\n",
      "Epoch 183/400\n",
      "61/61 [==============================] - 0s 2ms/step - loss: 182518432.0000 - val_loss: 199421504.0000\n",
      "Epoch 184/400\n",
      "61/61 [==============================] - 0s 2ms/step - loss: 182533680.0000 - val_loss: 199545552.0000\n",
      "Epoch 185/400\n",
      "61/61 [==============================] - 0s 2ms/step - loss: 182847456.0000 - val_loss: 199667792.0000\n",
      "Epoch 186/400\n",
      "61/61 [==============================] - 0s 2ms/step - loss: 182447408.0000 - val_loss: 199801872.0000\n",
      "Epoch 187/400\n",
      "61/61 [==============================] - 0s 2ms/step - loss: 182847376.0000 - val_loss: 199419296.0000\n",
      "Epoch 188/400\n",
      "61/61 [==============================] - 0s 2ms/step - loss: 182503264.0000 - val_loss: 199461088.0000\n",
      "Epoch 189/400\n",
      "61/61 [==============================] - 0s 2ms/step - loss: 182407136.0000 - val_loss: 200965968.0000\n",
      "Epoch 190/400\n",
      "61/61 [==============================] - 0s 2ms/step - loss: 182585072.0000 - val_loss: 199432112.0000\n",
      "Epoch 191/400\n",
      "61/61 [==============================] - 0s 2ms/step - loss: 182420912.0000 - val_loss: 199836000.0000\n",
      "Epoch 192/400\n",
      "61/61 [==============================] - 0s 2ms/step - loss: 182791568.0000 - val_loss: 200230672.0000\n",
      "Epoch 193/400\n",
      "61/61 [==============================] - 0s 2ms/step - loss: 182300720.0000 - val_loss: 199836688.0000\n",
      "Epoch 194/400\n",
      "61/61 [==============================] - 0s 2ms/step - loss: 182435552.0000 - val_loss: 200554048.0000\n",
      "Epoch 195/400\n",
      "61/61 [==============================] - 0s 2ms/step - loss: 182697792.0000 - val_loss: 199589520.0000\n",
      "Epoch 196/400\n",
      "61/61 [==============================] - 0s 2ms/step - loss: 182337472.0000 - val_loss: 200240736.0000\n",
      "Epoch 197/400\n",
      "61/61 [==============================] - 0s 2ms/step - loss: 182581104.0000 - val_loss: 199773888.0000\n",
      "Epoch 198/400\n",
      "61/61 [==============================] - 0s 2ms/step - loss: 182460336.0000 - val_loss: 199640576.0000\n",
      "Epoch 199/400\n",
      "61/61 [==============================] - 0s 2ms/step - loss: 182339744.0000 - val_loss: 200420560.0000\n",
      "Epoch 200/400\n",
      "61/61 [==============================] - 0s 2ms/step - loss: 182398288.0000 - val_loss: 199602896.0000\n",
      "Epoch 201/400\n",
      "61/61 [==============================] - 0s 2ms/step - loss: 182301248.0000 - val_loss: 200131792.0000\n",
      "Epoch 202/400\n",
      "61/61 [==============================] - 0s 2ms/step - loss: 182173520.0000 - val_loss: 199803312.0000\n",
      "Epoch 203/400\n",
      "61/61 [==============================] - 0s 2ms/step - loss: 182446880.0000 - val_loss: 200482704.0000\n",
      "Epoch 204/400\n",
      "61/61 [==============================] - 0s 2ms/step - loss: 182327904.0000 - val_loss: 199831616.0000\n",
      "Epoch 205/400\n",
      "61/61 [==============================] - 0s 2ms/step - loss: 182539984.0000 - val_loss: 199797696.0000\n",
      "Epoch 206/400\n",
      "61/61 [==============================] - 0s 2ms/step - loss: 182045296.0000 - val_loss: 199865088.0000\n",
      "Epoch 207/400\n",
      "61/61 [==============================] - 0s 2ms/step - loss: 182338768.0000 - val_loss: 199493040.0000\n",
      "Epoch 208/400\n",
      "61/61 [==============================] - 0s 2ms/step - loss: 182909712.0000 - val_loss: 199366048.0000\n",
      "Epoch 209/400\n",
      "61/61 [==============================] - 0s 2ms/step - loss: 182222736.0000 - val_loss: 199880192.0000\n",
      "Epoch 210/400\n",
      "61/61 [==============================] - 0s 2ms/step - loss: 182252512.0000 - val_loss: 199507520.0000\n",
      "Epoch 211/400\n",
      "61/61 [==============================] - 0s 2ms/step - loss: 182235456.0000 - val_loss: 199803376.0000\n",
      "Epoch 212/400\n",
      "61/61 [==============================] - 0s 2ms/step - loss: 182429296.0000 - val_loss: 200103552.0000\n",
      "Epoch 213/400\n",
      "61/61 [==============================] - 0s 2ms/step - loss: 182469264.0000 - val_loss: 199693728.0000\n",
      "Epoch 214/400\n",
      "61/61 [==============================] - 0s 2ms/step - loss: 182307488.0000 - val_loss: 199700768.0000\n",
      "Epoch 215/400\n",
      "61/61 [==============================] - 0s 2ms/step - loss: 182224032.0000 - val_loss: 199743776.0000\n",
      "Epoch 216/400\n",
      "61/61 [==============================] - 0s 2ms/step - loss: 182129744.0000 - val_loss: 200035792.0000\n",
      "Epoch 217/400\n",
      "61/61 [==============================] - 0s 2ms/step - loss: 182722944.0000 - val_loss: 200970288.0000\n",
      "Epoch 218/400\n",
      "61/61 [==============================] - 0s 2ms/step - loss: 182416352.0000 - val_loss: 201818768.0000\n",
      "Epoch 219/400\n",
      "61/61 [==============================] - 0s 2ms/step - loss: 182519680.0000 - val_loss: 200303104.0000\n",
      "Epoch 220/400\n",
      "61/61 [==============================] - 0s 2ms/step - loss: 182135440.0000 - val_loss: 199911776.0000\n",
      "Epoch 221/400\n",
      "61/61 [==============================] - 0s 2ms/step - loss: 182131024.0000 - val_loss: 199978016.0000\n",
      "Epoch 222/400\n",
      "61/61 [==============================] - 0s 2ms/step - loss: 182448912.0000 - val_loss: 199549248.0000\n",
      "Epoch 223/400\n",
      "61/61 [==============================] - 0s 2ms/step - loss: 182300912.0000 - val_loss: 199837952.0000\n",
      "Epoch 224/400\n",
      "61/61 [==============================] - 0s 2ms/step - loss: 182467088.0000 - val_loss: 200752096.0000\n",
      "Epoch 225/400\n",
      "61/61 [==============================] - 0s 2ms/step - loss: 182057856.0000 - val_loss: 200810352.0000\n",
      "Epoch 226/400\n",
      "61/61 [==============================] - 0s 2ms/step - loss: 182054912.0000 - val_loss: 199694480.0000\n",
      "Epoch 227/400\n",
      "61/61 [==============================] - 0s 2ms/step - loss: 182170672.0000 - val_loss: 199511472.0000\n",
      "Epoch 228/400\n",
      "61/61 [==============================] - 0s 2ms/step - loss: 182518464.0000 - val_loss: 199855152.0000\n",
      "Epoch 229/400\n",
      "61/61 [==============================] - 0s 2ms/step - loss: 182106624.0000 - val_loss: 200210032.0000\n",
      "Epoch 230/400\n",
      "61/61 [==============================] - 0s 2ms/step - loss: 182113152.0000 - val_loss: 200154128.0000\n",
      "Epoch 231/400\n",
      "61/61 [==============================] - 0s 2ms/step - loss: 182163904.0000 - val_loss: 199810848.0000\n",
      "Epoch 232/400\n",
      "61/61 [==============================] - 0s 2ms/step - loss: 182073536.0000 - val_loss: 200243840.0000\n",
      "Epoch 233/400\n",
      "61/61 [==============================] - 0s 2ms/step - loss: 182082048.0000 - val_loss: 200538544.0000\n",
      "Epoch 234/400\n",
      "61/61 [==============================] - 0s 2ms/step - loss: 182223824.0000 - val_loss: 199758000.0000\n",
      "Epoch 235/400\n",
      "61/61 [==============================] - 0s 2ms/step - loss: 182025792.0000 - val_loss: 200465024.0000\n",
      "Epoch 236/400\n",
      "61/61 [==============================] - 0s 3ms/step - loss: 182120368.0000 - val_loss: 200191424.0000\n",
      "Epoch 237/400\n",
      "61/61 [==============================] - 0s 2ms/step - loss: 182178944.0000 - val_loss: 199979024.0000\n",
      "Epoch 238/400\n",
      "61/61 [==============================] - 0s 2ms/step - loss: 182220352.0000 - val_loss: 200789712.0000\n",
      "Epoch 239/400\n",
      "61/61 [==============================] - 0s 2ms/step - loss: 182223984.0000 - val_loss: 199814000.0000\n",
      "Epoch 240/400\n",
      "61/61 [==============================] - 0s 2ms/step - loss: 181965488.0000 - val_loss: 199837728.0000\n",
      "Epoch 241/400\n",
      "61/61 [==============================] - 0s 2ms/step - loss: 182149360.0000 - val_loss: 199846112.0000\n",
      "Epoch 242/400\n",
      "61/61 [==============================] - 0s 2ms/step - loss: 182021472.0000 - val_loss: 200407216.0000\n",
      "Epoch 243/400\n",
      "61/61 [==============================] - 0s 2ms/step - loss: 182543008.0000 - val_loss: 199887600.0000\n",
      "Epoch 244/400\n",
      "61/61 [==============================] - 0s 2ms/step - loss: 182201328.0000 - val_loss: 199834384.0000\n",
      "Epoch 245/400\n",
      "61/61 [==============================] - 0s 2ms/step - loss: 182280896.0000 - val_loss: 199655920.0000\n",
      "Epoch 246/400\n",
      "61/61 [==============================] - 0s 2ms/step - loss: 182254592.0000 - val_loss: 199636176.0000\n",
      "Epoch 247/400\n",
      "61/61 [==============================] - 0s 2ms/step - loss: 182480256.0000 - val_loss: 199669808.0000\n",
      "Epoch 248/400\n",
      "61/61 [==============================] - 0s 2ms/step - loss: 181944736.0000 - val_loss: 199629360.0000\n",
      "Epoch 249/400\n",
      "61/61 [==============================] - 0s 2ms/step - loss: 182114368.0000 - val_loss: 199572608.0000\n",
      "Epoch 250/400\n",
      "61/61 [==============================] - 0s 2ms/step - loss: 181927136.0000 - val_loss: 200018912.0000\n",
      "Epoch 251/400\n",
      "61/61 [==============================] - 0s 2ms/step - loss: 182154000.0000 - val_loss: 200480992.0000\n",
      "Epoch 252/400\n",
      "61/61 [==============================] - 0s 2ms/step - loss: 182179632.0000 - val_loss: 200450992.0000\n",
      "Epoch 253/400\n",
      "61/61 [==============================] - 0s 2ms/step - loss: 181935104.0000 - val_loss: 200373616.0000\n",
      "Epoch 254/400\n",
      "61/61 [==============================] - 0s 2ms/step - loss: 181927904.0000 - val_loss: 199864752.0000\n",
      "Epoch 255/400\n",
      "61/61 [==============================] - 0s 2ms/step - loss: 182227136.0000 - val_loss: 199916448.0000\n",
      "Epoch 256/400\n",
      "61/61 [==============================] - 0s 2ms/step - loss: 182651744.0000 - val_loss: 199721984.0000\n",
      "Epoch 257/400\n",
      "61/61 [==============================] - 0s 2ms/step - loss: 182057968.0000 - val_loss: 200479552.0000\n",
      "Epoch 258/400\n",
      "61/61 [==============================] - 0s 2ms/step - loss: 182010960.0000 - val_loss: 200077328.0000\n",
      "Epoch 259/400\n",
      "61/61 [==============================] - 0s 2ms/step - loss: 182022016.0000 - val_loss: 199887552.0000\n",
      "Epoch 260/400\n",
      "61/61 [==============================] - 0s 2ms/step - loss: 182005856.0000 - val_loss: 199766704.0000\n",
      "Epoch 261/400\n",
      "61/61 [==============================] - 0s 2ms/step - loss: 181847232.0000 - val_loss: 199736416.0000\n",
      "Epoch 262/400\n",
      "61/61 [==============================] - 0s 2ms/step - loss: 181748480.0000 - val_loss: 201482928.0000\n",
      "Epoch 263/400\n",
      "61/61 [==============================] - 0s 2ms/step - loss: 182243744.0000 - val_loss: 200712528.0000\n",
      "Epoch 264/400\n",
      "61/61 [==============================] - 0s 2ms/step - loss: 182158208.0000 - val_loss: 200253008.0000\n",
      "Epoch 265/400\n",
      "61/61 [==============================] - 0s 2ms/step - loss: 181991104.0000 - val_loss: 200014464.0000\n",
      "Epoch 266/400\n",
      "61/61 [==============================] - 0s 2ms/step - loss: 181861536.0000 - val_loss: 199491520.0000\n",
      "Epoch 267/400\n",
      "61/61 [==============================] - 0s 2ms/step - loss: 181980752.0000 - val_loss: 199485952.0000\n",
      "Epoch 268/400\n",
      "61/61 [==============================] - 0s 2ms/step - loss: 182010304.0000 - val_loss: 200025904.0000\n",
      "Epoch 269/400\n",
      "61/61 [==============================] - 0s 2ms/step - loss: 182162320.0000 - val_loss: 200091200.0000\n",
      "Epoch 270/400\n",
      "61/61 [==============================] - 0s 2ms/step - loss: 182156800.0000 - val_loss: 200652688.0000\n",
      "Epoch 271/400\n",
      "61/61 [==============================] - 0s 2ms/step - loss: 182107776.0000 - val_loss: 199540656.0000\n",
      "Epoch 272/400\n",
      "61/61 [==============================] - 0s 2ms/step - loss: 182229120.0000 - val_loss: 199475408.0000\n",
      "Epoch 273/400\n",
      "61/61 [==============================] - 0s 2ms/step - loss: 182293168.0000 - val_loss: 199967968.0000\n",
      "Epoch 274/400\n",
      "61/61 [==============================] - 0s 2ms/step - loss: 181995840.0000 - val_loss: 200096464.0000\n",
      "Epoch 275/400\n",
      "61/61 [==============================] - 0s 2ms/step - loss: 181874704.0000 - val_loss: 200245776.0000\n",
      "Epoch 276/400\n",
      "61/61 [==============================] - 0s 2ms/step - loss: 181810832.0000 - val_loss: 199770480.0000\n",
      "Epoch 277/400\n",
      "61/61 [==============================] - 0s 2ms/step - loss: 182016064.0000 - val_loss: 200097280.0000\n",
      "Epoch 278/400\n",
      "61/61 [==============================] - 0s 3ms/step - loss: 181800960.0000 - val_loss: 199688752.0000\n",
      "Epoch 279/400\n",
      "61/61 [==============================] - 0s 2ms/step - loss: 181829872.0000 - val_loss: 199929200.0000\n",
      "Epoch 280/400\n",
      "61/61 [==============================] - 0s 2ms/step - loss: 181805360.0000 - val_loss: 199596144.0000\n",
      "Epoch 281/400\n",
      "61/61 [==============================] - 0s 2ms/step - loss: 181886400.0000 - val_loss: 200122880.0000\n",
      "Epoch 282/400\n",
      "61/61 [==============================] - 0s 2ms/step - loss: 182115968.0000 - val_loss: 199604160.0000\n",
      "Epoch 283/400\n",
      "61/61 [==============================] - 0s 2ms/step - loss: 181857120.0000 - val_loss: 200549328.0000\n",
      "Epoch 284/400\n",
      "61/61 [==============================] - 0s 2ms/step - loss: 182127808.0000 - val_loss: 199331056.0000\n",
      "Epoch 285/400\n",
      "61/61 [==============================] - 0s 2ms/step - loss: 181849424.0000 - val_loss: 201602560.0000\n",
      "Epoch 286/400\n",
      "61/61 [==============================] - 0s 2ms/step - loss: 181982640.0000 - val_loss: 203962480.0000\n",
      "Epoch 287/400\n",
      "61/61 [==============================] - 0s 2ms/step - loss: 182147584.0000 - val_loss: 199629536.0000\n",
      "Epoch 288/400\n",
      "61/61 [==============================] - 0s 2ms/step - loss: 181721136.0000 - val_loss: 199665824.0000\n",
      "Epoch 289/400\n",
      "61/61 [==============================] - 0s 2ms/step - loss: 181870080.0000 - val_loss: 199414880.0000\n",
      "Epoch 290/400\n",
      "61/61 [==============================] - 0s 2ms/step - loss: 181622048.0000 - val_loss: 199505360.0000\n",
      "Epoch 291/400\n",
      "61/61 [==============================] - 0s 2ms/step - loss: 181835216.0000 - val_loss: 199510320.0000\n",
      "Epoch 292/400\n",
      "61/61 [==============================] - 0s 2ms/step - loss: 181839776.0000 - val_loss: 201318368.0000\n",
      "Epoch 293/400\n",
      "61/61 [==============================] - 0s 2ms/step - loss: 182317344.0000 - val_loss: 200174384.0000\n",
      "Epoch 294/400\n",
      "61/61 [==============================] - 0s 2ms/step - loss: 181765328.0000 - val_loss: 199512848.0000\n",
      "Epoch 295/400\n",
      "61/61 [==============================] - 0s 2ms/step - loss: 181684768.0000 - val_loss: 200928320.0000\n",
      "Epoch 296/400\n",
      "61/61 [==============================] - 0s 2ms/step - loss: 182033360.0000 - val_loss: 200982896.0000\n",
      "Epoch 297/400\n",
      "61/61 [==============================] - 0s 2ms/step - loss: 181874832.0000 - val_loss: 200360288.0000\n",
      "Epoch 298/400\n",
      "61/61 [==============================] - 0s 2ms/step - loss: 181815536.0000 - val_loss: 199946112.0000\n",
      "Epoch 299/400\n",
      "61/61 [==============================] - 0s 2ms/step - loss: 181653168.0000 - val_loss: 200776624.0000\n",
      "Epoch 300/400\n",
      "61/61 [==============================] - 0s 2ms/step - loss: 182134752.0000 - val_loss: 199431632.0000\n",
      "Epoch 301/400\n",
      "61/61 [==============================] - 0s 2ms/step - loss: 181779744.0000 - val_loss: 201906688.0000\n",
      "Epoch 302/400\n",
      "61/61 [==============================] - 0s 2ms/step - loss: 181924224.0000 - val_loss: 199632400.0000\n",
      "Epoch 303/400\n",
      "61/61 [==============================] - 0s 2ms/step - loss: 181716656.0000 - val_loss: 199999168.0000\n",
      "Epoch 304/400\n",
      "61/61 [==============================] - 0s 2ms/step - loss: 181634736.0000 - val_loss: 199822144.0000\n",
      "Epoch 305/400\n",
      "61/61 [==============================] - 0s 2ms/step - loss: 181931904.0000 - val_loss: 200888672.0000\n",
      "Epoch 306/400\n",
      "61/61 [==============================] - 0s 2ms/step - loss: 181652480.0000 - val_loss: 199425344.0000\n",
      "Epoch 307/400\n",
      "61/61 [==============================] - 0s 2ms/step - loss: 181799520.0000 - val_loss: 199429744.0000\n",
      "Epoch 308/400\n",
      "61/61 [==============================] - 0s 2ms/step - loss: 181510704.0000 - val_loss: 202596240.0000\n",
      "Epoch 309/400\n",
      "61/61 [==============================] - 0s 2ms/step - loss: 182955568.0000 - val_loss: 199774720.0000\n",
      "Epoch 310/400\n",
      "61/61 [==============================] - 0s 2ms/step - loss: 181731824.0000 - val_loss: 200021216.0000\n",
      "Epoch 311/400\n",
      "61/61 [==============================] - 0s 2ms/step - loss: 182080448.0000 - val_loss: 200295152.0000\n",
      "Epoch 312/400\n",
      "61/61 [==============================] - 0s 2ms/step - loss: 181895456.0000 - val_loss: 200183936.0000\n",
      "Epoch 313/400\n",
      "61/61 [==============================] - 0s 2ms/step - loss: 181565520.0000 - val_loss: 199988768.0000\n",
      "Epoch 314/400\n",
      "61/61 [==============================] - 0s 2ms/step - loss: 181637616.0000 - val_loss: 199440048.0000\n",
      "Epoch 315/400\n",
      "61/61 [==============================] - 0s 2ms/step - loss: 182151312.0000 - val_loss: 200028944.0000\n",
      "Epoch 316/400\n",
      "61/61 [==============================] - 0s 2ms/step - loss: 181533168.0000 - val_loss: 199717744.0000\n",
      "Epoch 317/400\n",
      "61/61 [==============================] - 0s 2ms/step - loss: 181650432.0000 - val_loss: 200150480.0000\n",
      "Epoch 318/400\n",
      "61/61 [==============================] - 0s 2ms/step - loss: 181634112.0000 - val_loss: 199700848.0000\n",
      "Epoch 319/400\n",
      "61/61 [==============================] - 0s 2ms/step - loss: 181858848.0000 - val_loss: 201738512.0000\n",
      "Epoch 320/400\n",
      "61/61 [==============================] - 0s 2ms/step - loss: 181814928.0000 - val_loss: 200087120.0000\n",
      "Epoch 321/400\n",
      "61/61 [==============================] - 0s 2ms/step - loss: 181627760.0000 - val_loss: 199552512.0000\n",
      "Epoch 322/400\n",
      "61/61 [==============================] - 0s 2ms/step - loss: 181607824.0000 - val_loss: 199826592.0000\n",
      "Epoch 323/400\n",
      "61/61 [==============================] - 0s 2ms/step - loss: 181691056.0000 - val_loss: 200015072.0000\n",
      "Epoch 324/400\n",
      "61/61 [==============================] - 0s 2ms/step - loss: 181757696.0000 - val_loss: 199377440.0000\n",
      "Epoch 325/400\n",
      "61/61 [==============================] - 0s 2ms/step - loss: 181495952.0000 - val_loss: 200018400.0000\n",
      "Epoch 326/400\n",
      "61/61 [==============================] - 0s 2ms/step - loss: 181684464.0000 - val_loss: 199556912.0000\n",
      "Epoch 327/400\n",
      "61/61 [==============================] - 0s 2ms/step - loss: 181632768.0000 - val_loss: 200433056.0000\n",
      "Epoch 328/400\n",
      "61/61 [==============================] - 0s 2ms/step - loss: 181806480.0000 - val_loss: 199228640.0000\n",
      "Epoch 329/400\n",
      "61/61 [==============================] - 0s 2ms/step - loss: 181921232.0000 - val_loss: 200447120.0000\n",
      "Epoch 330/400\n",
      "61/61 [==============================] - 0s 2ms/step - loss: 182314192.0000 - val_loss: 200360368.0000\n",
      "Epoch 331/400\n",
      "61/61 [==============================] - 0s 2ms/step - loss: 181679152.0000 - val_loss: 199576672.0000\n",
      "Epoch 332/400\n",
      "61/61 [==============================] - 0s 2ms/step - loss: 181674944.0000 - val_loss: 199293520.0000\n",
      "Epoch 333/400\n",
      "61/61 [==============================] - 0s 2ms/step - loss: 181706304.0000 - val_loss: 199336640.0000\n",
      "Epoch 334/400\n",
      "61/61 [==============================] - 0s 2ms/step - loss: 181737632.0000 - val_loss: 199425120.0000\n",
      "Epoch 335/400\n",
      "61/61 [==============================] - 0s 2ms/step - loss: 181752176.0000 - val_loss: 199600832.0000\n",
      "Epoch 336/400\n",
      "61/61 [==============================] - 0s 2ms/step - loss: 181645968.0000 - val_loss: 199259088.0000\n",
      "Epoch 337/400\n",
      "61/61 [==============================] - 0s 2ms/step - loss: 181662144.0000 - val_loss: 199555504.0000\n",
      "Epoch 338/400\n",
      "61/61 [==============================] - 0s 2ms/step - loss: 181794928.0000 - val_loss: 199534848.0000\n",
      "Epoch 339/400\n",
      "61/61 [==============================] - 0s 2ms/step - loss: 181842208.0000 - val_loss: 199655728.0000\n",
      "Epoch 340/400\n",
      "61/61 [==============================] - 0s 2ms/step - loss: 181970992.0000 - val_loss: 199338016.0000\n",
      "Epoch 341/400\n",
      "61/61 [==============================] - 0s 2ms/step - loss: 181654336.0000 - val_loss: 200058032.0000\n",
      "Epoch 342/400\n",
      "61/61 [==============================] - 0s 3ms/step - loss: 181740384.0000 - val_loss: 199872672.0000\n",
      "Epoch 343/400\n",
      "61/61 [==============================] - 0s 2ms/step - loss: 181731408.0000 - val_loss: 199580128.0000\n",
      "Epoch 344/400\n",
      "61/61 [==============================] - 0s 2ms/step - loss: 181577952.0000 - val_loss: 200445968.0000\n",
      "Epoch 345/400\n",
      "61/61 [==============================] - 0s 3ms/step - loss: 181689312.0000 - val_loss: 199837968.0000\n",
      "Epoch 346/400\n",
      "61/61 [==============================] - 0s 2ms/step - loss: 181552288.0000 - val_loss: 200767024.0000\n",
      "Epoch 347/400\n",
      "61/61 [==============================] - 0s 2ms/step - loss: 181592896.0000 - val_loss: 199359328.0000\n",
      "Epoch 348/400\n",
      "61/61 [==============================] - 0s 2ms/step - loss: 181452800.0000 - val_loss: 199619264.0000\n",
      "Epoch 349/400\n",
      "61/61 [==============================] - 0s 2ms/step - loss: 181725424.0000 - val_loss: 199369456.0000\n",
      "Epoch 350/400\n",
      "61/61 [==============================] - 0s 2ms/step - loss: 181385616.0000 - val_loss: 201282928.0000\n",
      "Epoch 351/400\n",
      "61/61 [==============================] - 0s 2ms/step - loss: 181400608.0000 - val_loss: 199760080.0000\n",
      "Epoch 352/400\n",
      "61/61 [==============================] - 0s 2ms/step - loss: 181855584.0000 - val_loss: 199402576.0000\n",
      "Epoch 353/400\n",
      "61/61 [==============================] - 0s 2ms/step - loss: 181440288.0000 - val_loss: 199224832.0000\n",
      "Epoch 354/400\n",
      "61/61 [==============================] - 0s 3ms/step - loss: 181478560.0000 - val_loss: 199270688.0000\n",
      "Epoch 355/400\n",
      "61/61 [==============================] - 0s 2ms/step - loss: 181637264.0000 - val_loss: 200797184.0000\n",
      "Epoch 356/400\n",
      "61/61 [==============================] - 0s 2ms/step - loss: 181848096.0000 - val_loss: 199743168.0000\n",
      "Epoch 357/400\n",
      "61/61 [==============================] - 0s 2ms/step - loss: 181378864.0000 - val_loss: 200223904.0000\n",
      "Epoch 358/400\n",
      "61/61 [==============================] - 0s 2ms/step - loss: 182047312.0000 - val_loss: 200915536.0000\n",
      "Epoch 359/400\n",
      "61/61 [==============================] - 0s 2ms/step - loss: 181510768.0000 - val_loss: 199149392.0000\n",
      "Epoch 360/400\n",
      "61/61 [==============================] - 0s 2ms/step - loss: 181777392.0000 - val_loss: 199199632.0000\n",
      "Epoch 361/400\n",
      "61/61 [==============================] - 0s 2ms/step - loss: 181425376.0000 - val_loss: 199494704.0000\n",
      "Epoch 362/400\n",
      "61/61 [==============================] - 0s 2ms/step - loss: 181436000.0000 - val_loss: 200075888.0000\n",
      "Epoch 363/400\n",
      "61/61 [==============================] - 0s 2ms/step - loss: 181658576.0000 - val_loss: 199445456.0000\n",
      "Epoch 364/400\n",
      "61/61 [==============================] - 0s 2ms/step - loss: 181436640.0000 - val_loss: 199687552.0000\n",
      "Epoch 365/400\n",
      "61/61 [==============================] - 0s 2ms/step - loss: 181488784.0000 - val_loss: 199604608.0000\n",
      "Epoch 366/400\n",
      "61/61 [==============================] - 0s 2ms/step - loss: 181524832.0000 - val_loss: 199526624.0000\n",
      "Epoch 367/400\n",
      "61/61 [==============================] - 0s 2ms/step - loss: 181675584.0000 - val_loss: 199749456.0000\n",
      "Epoch 368/400\n",
      "61/61 [==============================] - 0s 2ms/step - loss: 181423872.0000 - val_loss: 199370192.0000\n",
      "Epoch 369/400\n",
      "61/61 [==============================] - 0s 2ms/step - loss: 181485584.0000 - val_loss: 199327424.0000\n",
      "Epoch 370/400\n",
      "61/61 [==============================] - 0s 2ms/step - loss: 181331632.0000 - val_loss: 199349792.0000\n",
      "Epoch 371/400\n",
      "61/61 [==============================] - 0s 2ms/step - loss: 181327680.0000 - val_loss: 199504352.0000\n",
      "Epoch 372/400\n",
      "61/61 [==============================] - 0s 2ms/step - loss: 181450576.0000 - val_loss: 199542336.0000\n",
      "Epoch 373/400\n",
      "61/61 [==============================] - 0s 2ms/step - loss: 181570464.0000 - val_loss: 199429280.0000\n",
      "Epoch 374/400\n",
      "61/61 [==============================] - 0s 2ms/step - loss: 181525312.0000 - val_loss: 199681024.0000\n",
      "Epoch 375/400\n",
      "61/61 [==============================] - 0s 2ms/step - loss: 181501648.0000 - val_loss: 199486752.0000\n",
      "Epoch 376/400\n",
      "61/61 [==============================] - 0s 2ms/step - loss: 181519472.0000 - val_loss: 199453792.0000\n",
      "Epoch 377/400\n",
      "61/61 [==============================] - 0s 2ms/step - loss: 181872224.0000 - val_loss: 199523040.0000\n",
      "Epoch 378/400\n",
      "61/61 [==============================] - 0s 2ms/step - loss: 181550656.0000 - val_loss: 199732320.0000\n",
      "Epoch 379/400\n",
      "61/61 [==============================] - 0s 2ms/step - loss: 181282880.0000 - val_loss: 199903808.0000\n",
      "Epoch 380/400\n",
      "61/61 [==============================] - 0s 2ms/step - loss: 181495728.0000 - val_loss: 199715024.0000\n",
      "Epoch 381/400\n",
      "61/61 [==============================] - 0s 2ms/step - loss: 181524928.0000 - val_loss: 199211696.0000\n",
      "Epoch 382/400\n",
      "61/61 [==============================] - 0s 2ms/step - loss: 181602736.0000 - val_loss: 199913392.0000\n",
      "Epoch 383/400\n",
      "61/61 [==============================] - 0s 2ms/step - loss: 181786896.0000 - val_loss: 199371968.0000\n",
      "Epoch 384/400\n",
      "61/61 [==============================] - 0s 2ms/step - loss: 181383184.0000 - val_loss: 199534816.0000\n",
      "Epoch 385/400\n",
      "61/61 [==============================] - 0s 2ms/step - loss: 181733120.0000 - val_loss: 200933936.0000\n",
      "Epoch 386/400\n",
      "61/61 [==============================] - 0s 2ms/step - loss: 181386336.0000 - val_loss: 199489632.0000\n",
      "Epoch 387/400\n",
      "61/61 [==============================] - 0s 2ms/step - loss: 181814320.0000 - val_loss: 199399520.0000\n",
      "Epoch 388/400\n",
      "61/61 [==============================] - 0s 2ms/step - loss: 181411712.0000 - val_loss: 199848240.0000\n",
      "Epoch 389/400\n",
      "61/61 [==============================] - 0s 2ms/step - loss: 181315264.0000 - val_loss: 199582032.0000\n",
      "Epoch 390/400\n",
      "61/61 [==============================] - 0s 2ms/step - loss: 181274496.0000 - val_loss: 199547696.0000\n",
      "Epoch 391/400\n",
      "61/61 [==============================] - 0s 2ms/step - loss: 181242576.0000 - val_loss: 199716736.0000\n",
      "Epoch 392/400\n",
      "61/61 [==============================] - 0s 2ms/step - loss: 181270080.0000 - val_loss: 199433888.0000\n",
      "Epoch 393/400\n",
      "61/61 [==============================] - 0s 2ms/step - loss: 181238704.0000 - val_loss: 199658928.0000\n",
      "Epoch 394/400\n",
      "61/61 [==============================] - 0s 2ms/step - loss: 181328800.0000 - val_loss: 199809408.0000\n",
      "Epoch 395/400\n",
      "61/61 [==============================] - 0s 2ms/step - loss: 181364960.0000 - val_loss: 199582560.0000\n",
      "Epoch 396/400\n",
      "61/61 [==============================] - 0s 2ms/step - loss: 181355312.0000 - val_loss: 199531904.0000\n",
      "Epoch 397/400\n",
      "61/61 [==============================] - 0s 2ms/step - loss: 181475472.0000 - val_loss: 200398432.0000\n",
      "Epoch 398/400\n",
      "61/61 [==============================] - 0s 2ms/step - loss: 181368560.0000 - val_loss: 199359728.0000\n",
      "Epoch 399/400\n",
      "61/61 [==============================] - 0s 2ms/step - loss: 181140528.0000 - val_loss: 199010208.0000\n",
      "Epoch 400/400\n",
      "61/61 [==============================] - 0s 2ms/step - loss: 181315504.0000 - val_loss: 199281744.0000\n"
     ]
    },
    {
     "data": {
      "text/plain": [
       "<keras.callbacks.History at 0x2e06a40faf0>"
      ]
     },
     "execution_count": 33,
     "metadata": {},
     "output_type": "execute_result"
    }
   ],
   "source": [
    "model.fit(x=X_train, y=y_train,\n",
    "          validation_data=(X_test, y_test),\n",
    "          batch_size=128, epochs=400\n",
    "          )"
   ]
  },
  {
   "cell_type": "code",
   "execution_count": 34,
   "metadata": {},
   "outputs": [
    {
     "data": {
      "text/plain": [
       "<AxesSubplot: >"
      ]
     },
     "execution_count": 34,
     "metadata": {},
     "output_type": "execute_result"
    },
    {
     "data": {
      "image/png": "[encoded data removed]",
      "text/plain": [
       "<Figure size 640x480 with 1 Axes>"
      ]
     },
     "metadata": {},
     "output_type": "display_data"
    }
   ],
   "source": [
    "losses = pd.DataFrame(model.history.history)\n",
    "losses.plot()"
   ]
  },
  {
   "cell_type": "code",
   "execution_count": 35,
   "metadata": {},
   "outputs": [
    {
     "name": "stdout",
     "output_type": "stream",
     "text": [
      "61/61 [==============================] - 0s 2ms/step\n",
      "RMSE: 14116.718489934421\n",
      "Explained Variance Score: 0.752495490868217\n"
     ]
    }
   ],
   "source": [
    "from sklearn.metrics import mean_squared_error, mean_absolute_error, explained_variance_score\n",
    "predictions = model.predict(X_test)\n",
    "\n",
    "rmse = np.sqrt(mean_squared_error(y_test, predictions))\n",
    "print(\"RMSE:\", rmse)\n",
    "evs = explained_variance_score(y_test, predictions)\n",
    "print(\"Explained Variance Score:\", evs)"
   ]
  },
  {
   "cell_type": "code",
   "execution_count": null,
   "metadata": {},
   "outputs": [],
   "source": []
  }
 ],
 "metadata": {
  "kernelspec": {
   "display_name": "Python 3",
   "language": "python",
   "name": "python3"
  },
  "language_info": {
   "codemirror_mode": {
    "name": "ipython",
    "version": 3
   },
   "file_extension": ".py",
   "mimetype": "text/x-python",
   "name": "python",
   "nbconvert_exporter": "python",
   "pygments_lexer": "ipython3",
   "version": "3.10.4 (tags/v3.10.4:9d38120, Mar 23 2022, 23:13:41) [MSC v.1929 64 bit (AMD64)]"
  },
  "orig_nbformat": 4,
  "vscode": {
   "interpreter": {
    "hash": "a42ccb73e7d9bfdf27e036f1d2b8b681e55fc0743cc5586bc2474d4a60f4b886"
   }
  }
 },
 "nbformat": 4,
 "nbformat_minor": 2
}
